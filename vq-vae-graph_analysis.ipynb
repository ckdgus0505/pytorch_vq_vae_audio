{
 "cells": [
  {
   "cell_type": "code",
   "execution_count": 1,
   "metadata": {},
   "outputs": [],
   "source": [
    "import os\n",
    "import subprocess\n",
    "\n",
    "import math\n",
    "\n",
    "import matplotlib.pyplot as plt\n",
    "import numpy as np\n",
    "import pickle\n",
    "\n",
    "import torch\n",
    "import torch.nn as nn\n",
    "import torch.nn.functional as F\n",
    "from torch.utils.data import Dataset, DataLoader\n",
    "import torch.optim as optim\n",
    "\n",
    "import random\n",
    "import librosa\n",
    "from wavenet_vocoder.wavenet import WaveNet\n",
    "from wavenet_vocoder.wavenet import receptive_field_size\n",
    "#from vq import VectorQuantizerEMA"
   ]
  },
  {
   "cell_type": "code",
   "execution_count": 2,
   "metadata": {},
   "outputs": [],
   "source": [
    "import easydict\n",
    "args = easydict.EasyDict({\n",
    "    \"batch\": 1,\n",
    "    \"training_data\": './2_speaker/vctk_train.txt',\n",
    "    \"load\": 30,\n",
    "    \"seed\": 123456789 })"
   ]
  },
  {
   "cell_type": "code",
   "execution_count": 3,
   "metadata": {},
   "outputs": [],
   "source": [
    "device = torch.device(\"cuda\")\n",
    "#torch.cuda.set_device(0)\n",
    "device\n",
    "\n",
    "torch.manual_seed(args.seed)\n",
    "np.random.seed(args.seed)\n",
    "random.seed(args.seed)"
   ]
  },
  {
   "cell_type": "code",
   "execution_count": 4,
   "metadata": {},
   "outputs": [],
   "source": [
    "with open(args.training_data, 'r') as f:\n",
    "    data = f.read()\n",
    "file = data.splitlines()\n",
    "speaker_dic = {}\n",
    "number_of_speakers = 0\n",
    "for i in range (0, len(file)):\n",
    "    if (file[i].split('/')[0] in speaker_dic):\n",
    "        continue\n",
    "    else :\n",
    "        speaker_dic[file[i].split('/')[0]] = number_of_speakers\n",
    "        number_of_speakers+=1\n",
    "        "
   ]
  },
  {
   "cell_type": "code",
   "execution_count": 5,
   "metadata": {},
   "outputs": [],
   "source": [
    "#TO DO: check that weight gets updated\n",
    "class VectorQuantizerEMA(nn.Module):\n",
    "    \"\"\"We will also implement a slightly modified version  which will use exponential moving averages\n",
    "    to update the embedding vectors instead of an auxillary loss.\n",
    "    This has the advantage that the embedding updates are independent of the choice of optimizer \n",
    "    for the encoder, decoder and other parts of the architecture.\n",
    "    For most experiments the EMA version trains faster than the non-EMA version.\"\"\"\n",
    "    def __init__(self, num_embeddings, embedding_dim, commitment_cost, decay, epsilon=1e-5):\n",
    "        super(VectorQuantizerEMA, self).__init__()\n",
    "        \n",
    "        self._embedding_dim = embedding_dim\n",
    "        self._num_embeddings = num_embeddings\n",
    "        \n",
    "        self._embedding = nn.Embedding(self._num_embeddings, self._embedding_dim)\n",
    "#        nn.init.uniform_(self._embedding.weight)\n",
    "#         self._embedding.weight.data.normal_(0,0.001)\n",
    "#        self._embedding.weight.data.uniform_(-1,1)\n",
    "#        self._embedding.weight.data = torch.Tensor([0])\n",
    "        #self._embedding.weight.data = torch.Tensor(np.zeros(()))\n",
    "        self._commitment_cost = commitment_cost\n",
    "        \n",
    "        self.register_buffer('_ema_cluster_size', torch.zeros(num_embeddings))\n",
    "        self._ema_w = nn.Parameter(torch.Tensor(num_embeddings, self._embedding_dim))\n",
    "        self._ema_w.data.normal_()\n",
    "        \n",
    "        self._decay = decay\n",
    "        self._epsilon = epsilon\n",
    "    '''\n",
    "    def forward(self, inputs):\n",
    "        # convert inputs from BCL -> BLC\n",
    "        inputs = inputs.permute(0, 2, 1).contiguous()\n",
    "        input_shape = inputs.shape\n",
    "        # Flatten input\n",
    "        flat_input = inputs.view(-1, self._embedding_dim)     #[BL, C]\n",
    "        if (self._embedding.weight.data == 0).all():\n",
    "            self._embedding.weight.data = flat_input[-self._num_embeddings:].detach()\n",
    "        # Calculate distances\n",
    "\n",
    "        distances = (torch.sum(flat_input**2, dim=1, keepdim=True) \n",
    "                    + torch.sum(self._embedding.weight**2, dim=1)\n",
    "                    - 2 * torch.matmul(flat_input, self._embedding.weight.t())) #[BL, num_embeddings]\n",
    "        # Encoding\n",
    "        encoding_indices = torch.argmin(distances, dim=1).unsqueeze(1) #[BL, 1]\n",
    "        encodings = torch.zeros(encoding_indices.shape[0], self._num_embeddings).to(device)# [BL, num_embeddings]\n",
    "        encodings.scatter_(1, encoding_indices, 1)\n",
    "        #print(encodings.shape) [250, 512]\n",
    "        # Use EMA to update the embedding vectors\n",
    "        if self.training:\n",
    "            self._ema_cluster_size = self._ema_cluster_size * self._decay + \\\n",
    "                                     (1 - self._decay) * torch.sum(encodings, 0)\n",
    "            #print(self._ema_cluster_size.shape) [512]\n",
    "            n = torch.sum(self._ema_cluster_size)\n",
    "            self._ema_cluster_size = (\n",
    "                (self._ema_cluster_size + self._epsilon)\n",
    "                / (n + self._num_embeddings * self._epsilon) * n)\n",
    "            \n",
    "            dw = torch.matmul(encodings.t(), flat_input)\n",
    "            self._ema_w = nn.Parameter(self._ema_w * self._decay + (1 - self._decay) * dw)\n",
    "            \n",
    "            self._embedding.weight = nn.Parameter(self._ema_w / self._ema_cluster_size.unsqueeze(1))\n",
    "        \n",
    "        # Quantize and unflatten\n",
    "        #encodings.shape = [BL, num_embeddings] , weight.shape=[num_embeddings, C]\n",
    "        quantized = torch.matmul(encodings, self._embedding.weight).view(input_shape)\n",
    "\n",
    "        \n",
    "        # Loss\n",
    "        e_latent_loss = torch.mean((quantized.detach() - inputs)**2)\n",
    "        q_latent_loss = torch.mean((quantized - inputs.detach())**2)\n",
    "#        print(q_latent_loss.item(), 0.25 * e_latent_loss.item())\n",
    "        loss = q_latent_loss + self._commitment_cost * e_latent_loss\n",
    "        \n",
    "        quantized = inputs + (quantized - inputs).detach()\n",
    "        avg_probs = torch.mean(encodings, dim=0)\n",
    "        perplexity = torch.exp(-torch.sum(avg_probs * torch.log(avg_probs + 1e-10)))\n",
    "        # convert quantized from BLC -> BCL\n",
    "        return loss, quantized.permute(0, 2, 1).contiguous(), perplexity\n",
    "    '''\n",
    "    \n",
    "    def forward(self, inputs):\n",
    "        # convert inputs from BCL -> BLC\n",
    "        inputs = inputs.permute(0, 2, 1).contiguous()\n",
    "        input_shape = inputs.shape\n",
    "        # Flatten input\n",
    "        flat_input = inputs.view(-1, self._embedding_dim)     #[BL, C]\n",
    "        # Calculate distances\n",
    "        \n",
    "        distances = torch.norm(flat_input.unsqueeze(1) - self._embedding.weight, dim=2, p=2)\n",
    " #       distances = (torch.sum(flat_input**2, dim=1, keepdim=True) \n",
    " #                   + torch.sum(self._embedding.weight**2, dim=1)\n",
    "        # Encoding\n",
    "        encoding_indices = torch.argmin(distances, dim=1).unsqueeze(1) #[BL, 1]\n",
    "        \n",
    "        encodings = torch.zeros(encoding_indices.shape[0], self._num_embeddings).to(device)# [BL, num_embeddings]\n",
    "        encodings.scatter_(1, encoding_indices, 1)\n",
    "        #print(encodings.shape) [250, 512]\n",
    "\n",
    "#         # Use EMA to update the embedding vectors\n",
    "#         if self.training:\n",
    "#             self._ema_cluster_size = self._ema_cluster_size * self._decay + \\\n",
    "#                                      (1 - self._decay) * torch.sum(encodings, 0)\n",
    "#             #print(self._ema_cluster_size.shape) [512]\n",
    "#             n = torch.sum(self._ema_cluster_size)\n",
    "#             self._ema_cluster_size = (\n",
    "#                 (self._ema_cluster_size + self._epsilon)\n",
    "#                 / (n + self._num_embeddings * self._epsilon) * n)\n",
    "            \n",
    "#             dw = torch.matmul(encodings.t(), flat_input)\n",
    "#             self._ema_w = nn.Parameter(self._ema_w * self._decay + (1 - self._decay) * dw)\n",
    "            \n",
    "#             self._embedding.weight = nn.Parameter(self._ema_w / self._ema_cluster_size.unsqueeze(1))\n",
    "\n",
    "        # Quantize and unflatten\n",
    "        #encodings.shape = [BL, num_embeddings] , weight.shape=[num_embeddings, C]\n",
    "        quantized = torch.matmul(encodings, self._embedding.weight).view(input_shape)\n",
    "        # Loss\n",
    "        e_latent_loss = torch.mean((quantized.detach() - inputs)**2)\n",
    "        q_latent_loss = torch.mean((quantized - inputs.detach())**2)\n",
    "#        print(q_latent_loss.item(), 0.25 * e_latent_loss.item())\n",
    "        loss = q_latent_loss + self._commitment_cost * e_latent_loss\n",
    "        \n",
    "        quantized = inputs + (quantized - inputs).detach()\n",
    "        avg_probs = torch.mean(encodings, dim=0)\n",
    "        perplexity = torch.exp(-torch.sum(avg_probs * torch.log(avg_probs + 1e-10)))\n",
    "        # same as torch.exp( entropy loss )\n",
    "        \n",
    "        # convert quantized from BLC -> BCL\n",
    "        return loss, quantized.permute(0, 2, 1).contiguous(), perplexity\n",
    "#    '''"
   ]
  },
  {
   "cell_type": "markdown",
   "metadata": {},
   "source": [
    "## Encoder & Decoder Architecture"
   ]
  },
  {
   "cell_type": "code",
   "execution_count": 6,
   "metadata": {},
   "outputs": [],
   "source": [
    "class Encoder(nn.Module):\n",
    "    \"\"\"Audio encoder\n",
    "    The vq-vae paper says that the encoder has 6 strided convolutions with stride 2 and window-size 4.\n",
    "    The number of channels and a nonlinearity is not specified in the paper. \n",
    "    I tried using ReLU, it didn't work.\n",
    "    Now I try using tanh, hoping that this will keep my encoded values within the neighborhood of 0,\n",
    "    so they do not drift too far away from encoding vectors.\n",
    "    \"\"\"\n",
    "    def __init__(self, encoding_channels, in_channels=256):\n",
    "        super(Encoder,self).__init__()\n",
    "        self._num_layers = 2 * len(encoding_channels)\n",
    "        self._layers = nn.ModuleList()\n",
    "        for out_channels in encoding_channels:\n",
    "            self._layers.append(nn.Conv1d(in_channels=in_channels,\n",
    "                                    out_channels=out_channels,\n",
    "                                    stride=2,\n",
    "                                    kernel_size=4,\n",
    "                                    padding=0, \n",
    "                                        ))\n",
    "            self._layers.append(nn.Tanh())\n",
    "            in_channels = out_channels\n",
    "        \n",
    "    def forward(self, x):\n",
    "        for i in range(self._num_layers):\n",
    "            x = self._layers[i](x)\n",
    "        return x"
   ]
  },
  {
   "cell_type": "code",
   "execution_count": 7,
   "metadata": {},
   "outputs": [],
   "source": [
    "class Model(nn.Module):\n",
    "    def __init__(self,\n",
    "                 encoding_channels,\n",
    "                 num_embeddings, \n",
    "                 embedding_dim,\n",
    "                 commitment_cost, \n",
    "                 layers,\n",
    "                 stacks,\n",
    "                 kernel_size,\n",
    "                 decay=0):\n",
    "        super(Model, self).__init__()       \n",
    "        self._encoder = Encoder(encoding_channels=encoding_channels)\n",
    "        #I tried adding batch normalization here, because:\n",
    "        #the distribution of encoded values needs to be similar to the distribution of embedding vectors\n",
    "        #otherwise we'll see \"posterior collapse\": all values will be assigned to the same embedding vector,\n",
    "        #and stay that way (because vectors which do not get assigned anything do not get updated).\n",
    "        #Batch normalization is a way to fix that. But it didn't work: model\n",
    "        #reproduced voice correctly, but the words were completely wrong.\n",
    "        #self._batch_norm = nn.BatchNorm1d(1)\n",
    "        if decay > 0.0:\n",
    "#             self._vq_vae = EMVectorQuantizerEMA(num_embeddings, embedding_dim, \n",
    "#                                               commitment_cost, decay, 100)\n",
    "            self._vq_vae = VectorQuantizerEMA(num_embeddings, embedding_dim, \n",
    "                                               commitment_cost, decay)\n",
    "\n",
    "        else:\n",
    "            self._vq_vae = VectorQuantizer(num_embeddings, embedding_dim,\n",
    "                                           commitment_cost)\n",
    "        self._decoder = WaveNet(device, out_channels=256, #dimension of ohe mu-quantized signal\n",
    "                                layers=layers, #like in original WaveNet\n",
    "                                stacks=stacks,\n",
    "                                residual_channels=512,\n",
    "                                gate_channels=512,\n",
    "                                skip_out_channels=512,\n",
    "                                kernel_size=kernel_size, \n",
    "                                dropout=1 - 0.95,\n",
    "                                cin_channels=embedding_dim, #local conditioning channels - on encoder output\n",
    "                                gin_channels=number_of_speakers, #global conditioning channels - on speaker_id\n",
    "                                n_speakers=number_of_speakers,\n",
    "                                weight_normalization=False, \n",
    "                                upsample_conditional_features=True, \n",
    "                                decoding_channels=encoding_channels[::-1],\n",
    "                                use_speaker_embedding=False\n",
    "                               )\n",
    "        self.recon_loss = torch.nn.CrossEntropyLoss()\n",
    "        self.receptive_field = receptive_field_size(total_layers=layers, num_cycles=stacks, kernel_size=kernel_size)\n",
    "#        self.mean = None\n",
    "#        self.std = None\n",
    "    def forward(self, x):\n",
    "        audio, target, speaker_id = x\n",
    "        assert len(audio.shape) == 3 # B x C x L \n",
    "        assert audio.shape[1] == 256\n",
    "        z = self._encoder(audio)\n",
    "        #normalize output - subtract mean, divide by standard deviation\n",
    "        #without this, perplexity goes to 1 almost instantly\n",
    "#         if self.mean is None:\n",
    "#             self.mean = z.mean().detach()\n",
    "#         if self.std is None:\n",
    "#              self.std = z.std().detach()\n",
    "#        z = z - self.mean\n",
    "#        z = z / self.std\n",
    "        vq_loss, quantized, perplexity = self._vq_vae(z)\n",
    "#        assert z.shape == quantized.shape\n",
    "#        print(\"audio.shape\", audio.shape)\n",
    "#        print(\"quantized.shape\", quantized.shape)\n",
    "        x_recon = self._decoder(audio, quantized, speaker_id, softmax=False)\n",
    "        x_recon = x_recon[:, :, self.receptive_field:-1]\n",
    "        recon_loss_value = self.recon_loss(x_recon, target[:, 1:])\n",
    "        loss = recon_loss_value + vq_loss\n",
    "        \n",
    "        return loss, recon_loss_value, x_recon, perplexity"
   ]
  },
  {
   "cell_type": "markdown",
   "metadata": {},
   "source": [
    "# Train"
   ]
  },
  {
   "cell_type": "code",
   "execution_count": 8,
   "metadata": {},
   "outputs": [],
   "source": [
    "num_training_updates = 39818\n",
    "#vector quantizer parameters:\n",
    "embedding_dim = 64 #dimension of each vector\n",
    "encoding_channels = [512,512,512,512,512,embedding_dim]\n",
    "num_embeddings = 512 #number of vectors\n",
    "commitment_cost = 0.25\n",
    "\n",
    "#wavenet parameters:\n",
    "kernel_size=2\n",
    "total_layers=30\n",
    "num_cycles=3\n",
    "\n",
    "\n",
    "decay = 0.99\n",
    "#decay = 0\n",
    "\n",
    "learning_rate = 1e-3\n",
    "batch_size=1"
   ]
  },
  {
   "cell_type": "code",
   "execution_count": 9,
   "metadata": {},
   "outputs": [
    {
     "name": "stdout",
     "output_type": "stream",
     "text": [
      "3070\n"
     ]
    }
   ],
   "source": [
    "receptive_field = receptive_field_size(total_layers=total_layers, num_cycles=num_cycles, kernel_size=kernel_size)\n",
    "print(receptive_field)"
   ]
  },
  {
   "cell_type": "markdown",
   "metadata": {},
   "source": [
    "## Load data"
   ]
  },
  {
   "cell_type": "code",
   "execution_count": 10,
   "metadata": {},
   "outputs": [],
   "source": [
    "model = Model(num_embeddings=num_embeddings,\n",
    "              encoding_channels=encoding_channels,\n",
    "              embedding_dim=embedding_dim, \n",
    "              commitment_cost=commitment_cost, \n",
    "              layers=total_layers,\n",
    "              stacks=num_cycles,\n",
    "              kernel_size=kernel_size,\n",
    "              decay=decay).to(device)"
   ]
  },
  {
   "cell_type": "code",
   "execution_count": 11,
   "metadata": {},
   "outputs": [],
   "source": [
    "optimizer = optim.Adam(model.parameters(), lr=1, amsgrad=False)\n",
    "\n",
    "scheduler = torch.optim.lr_scheduler.LambdaLR(optimizer,\n",
    "                                              lr_lambda=lambda epoch: 1e-3 if epoch == 0 else  (optimizer.param_groups[0]['lr'] - (1e-3 - 1e-6)/500) if epoch <= 500 else optimizer.param_groups[0]['lr'])"
   ]
  },
  {
   "cell_type": "code",
   "execution_count": null,
   "metadata": {},
   "outputs": [],
   "source": []
  },
  {
   "cell_type": "code",
   "execution_count": 12,
   "metadata": {},
   "outputs": [],
   "source": [
    "from fastdtw import fastdtw\n",
    "\n",
    "def conversion(original_wav, speaker):\n",
    "    model.eval()\n",
    "    with torch.no_grad():\n",
    "        generated_file = np.array([])\n",
    "        wav, sr = librosa.load(original_wav)\n",
    "        speaker_index = speaker_dic[speaker]\n",
    "        \n",
    "        normalized = librosa.util.normalize(wav)\n",
    "        quantized = quantize_data(normalized, 256)\n",
    "\n",
    "        for i in range(0, len(wav), 16126):\n",
    "            sample = quantized[i:i+16126]\n",
    "            if (len(sample)!= 16126):\n",
    "                sample = np.append(sample, np.zeros(16126 - len(sample)).astype(int))\n",
    "                \n",
    "            sample = torch.from_numpy(sample)\n",
    "            ohe_audio = torch.FloatTensor(256, 16126).zero_()\n",
    "            ohe_audio.scatter_(0, sample.unsqueeze(0), 1.)\n",
    "            \n",
    "            speaker_id = torch.from_numpy(np.array(speaker_index)).unsqueeze(0).unsqueeze(0)\n",
    "            ohe_speaker = torch.FloatTensor(number_of_speakers, 1).zero_()\n",
    "            ohe_speaker.scatter_(0, speaker_id, 1.)\n",
    "\n",
    "            ohe_audio = ohe_audio.unsqueeze(0).to(device)\n",
    "            ohe_speaker = ohe_speaker.unsqueeze(0).to(device)\n",
    "            encoded = model._encoder(ohe_audio)\n",
    "            _, valid_quantize, _ = model._vq_vae(encoded)\n",
    "            \n",
    "            valid_reconstructions = model._decoder.incremental_forward(ohe_audio[:,:,0:1], \n",
    "                                                               valid_quantize, \n",
    "                                                               ohe_speaker, \n",
    "                                                               T=16126)\n",
    "            \n",
    "            \n",
    "            recon = valid_reconstructions.squeeze().argmax(dim=0).detach().cpu().numpy()\n",
    "            mu_encoded = (recon + 1) / 128 - 1\n",
    "            mu_decoded = mu_law_decode(recon, mu=256)\n",
    "            generated_file = np.append(generated_file, mu_encoded)\n",
    "        # librosa.output.write_wav(\"generated.wav\",  generated_file, sr=sr)\n",
    "        return wav, generated_file, sr"
   ]
  },
  {
   "cell_type": "code",
   "execution_count": 13,
   "metadata": {},
   "outputs": [],
   "source": [
    "def mu_law_encode(data, mu):\n",
    "    mu_x = np.sign(data) * np.log(1 + mu * np.abs(data)) / np.log(mu + 1)\n",
    "    return mu_x\n",
    "\n",
    "def mu_law_decode(mu_x, mu):\n",
    "    data = np.sign(mu_x) * (1 / mu) * ((1 + mu) ** np.abs(mu_x) - 1)\n",
    "    return data\n",
    "\n",
    "def quantize_data(data, classes):\n",
    "    mu_x = mu_law_encode(data, classes)\n",
    "    bins = np.linspace(-1, 1, classes)\n",
    "    quantized = np.digitize(mu_x, bins) - 1\n",
    "    return quantized"
   ]
  },
  {
   "cell_type": "markdown",
   "metadata": {},
   "source": [
    "# calculate graph"
   ]
  },
  {
   "cell_type": "code",
   "execution_count": 14,
   "metadata": {},
   "outputs": [
    {
     "data": {
      "text/plain": [
       "<All keys matched successfully>"
      ]
     },
     "execution_count": 14,
     "metadata": {},
     "output_type": "execute_result"
    }
   ],
   "source": [
    "# model.load_state_dict(torch.load(\"model_epoch440\", map_location=\"cuda:0\"))\n",
    "model.load_state_dict(torch.load(\"model_epoch\"+str(args.load), map_location=\"cuda:0\"))"
   ]
  },
  {
   "cell_type": "raw",
   "metadata": {},
   "source": [
    "## Plot Loss"
   ]
  },
  {
   "cell_type": "markdown",
   "metadata": {},
   "source": [
    "## View Reconstructions"
   ]
  },
  {
   "cell_type": "code",
   "execution_count": null,
   "metadata": {},
   "outputs": [],
   "source": []
  },
  {
   "cell_type": "code",
   "execution_count": 15,
   "metadata": {},
   "outputs": [],
   "source": [
    "def generate(original_wav, speaker, filename = \"generated.wav\"):\n",
    "    model.eval()\n",
    "    with torch.no_grad():\n",
    "        generated_file = np.array([])\n",
    "        wav, sr = librosa.load(original_wav)\n",
    "        print(len(wav))\n",
    "        speaker_index = speaker_dic[speaker]\n",
    "        print(speaker_index)\n",
    "        normalized = librosa.util.normalize(wav)\n",
    "        quantized = quantize_data(normalized, 256)\n",
    "        \n",
    "        \n",
    "        \n",
    "        for i in range(0, len(wav), 16126):\n",
    "            sample = quantized[i:i+16126]\n",
    "            \n",
    "            \n",
    "            if (len(sample)!= 16126):\n",
    "                sample = np.append(sample, np.zeros(16126 - len(sample)).astype(int))\n",
    "                print(16126 - len(sample))\n",
    "                \n",
    "            sample = torch.from_numpy(sample)\n",
    "            print(sample)\n",
    "            print(torch.max(sample), torch.min(sample))\n",
    "            ohe_audio = torch.FloatTensor(256, 16126).zero_()\n",
    "            ohe_audio.scatter_(0, sample.unsqueeze(0), 1.)\n",
    "            \n",
    "            speaker_id = torch.from_numpy(np.array(speaker_index)).unsqueeze(0).unsqueeze(0).long()\n",
    "            ohe_speaker = torch.FloatTensor(number_of_speakers, 1).zero_()\n",
    "            ohe_speaker.scatter_(0, speaker_id, 1.)\n",
    "\n",
    "            ohe_audio = ohe_audio.unsqueeze(0).to(device)\n",
    "            ohe_speaker = ohe_speaker.unsqueeze(0).to(device)\n",
    "            encoded = model._encoder(ohe_audio)\n",
    "            _, valid_quantize, _ = model._vq_vae(encoded)\n",
    "            \n",
    "            valid_reconstructions = model._decoder.incremental_forward(ohe_audio[:,:,0:1], \n",
    "                                                               valid_quantize, \n",
    "                                                               ohe_speaker, \n",
    "                                                               T=16126)\n",
    "            \n",
    "            \n",
    "#         for i in range(0, len(wav), 16126):\n",
    "#             sample = quantized[i:i+16126]\n",
    "#             if (len(sample)!= 16126):\n",
    "#                 sample = np.append(sample, np.zeros(16126 - len(sample)).astype(int))\n",
    "                \n",
    "#             sample = torch.from_numpy(sample)\n",
    "#             print(sample)\n",
    "#             print(torch.max(sample), torch.min(sample))\n",
    "#             ohe_audio = torch.FloatTensor(256, 16126).zero_()\n",
    "#             ohe_audio.scatter_(0, sample.unsqueeze(0), 1.)\n",
    "            \n",
    "#             speaker_id = torch.from_numpy(np.array(speaker_index)).unsqueeze(0).unsqueeze(0)\n",
    "#             ohe_speaker = torch.FloatTensor(number_of_speakers, 1).zero_()\n",
    "#             ohe_speaker.scatter_(0, speaker_id, 1.)\n",
    "\n",
    "#             ohe_audio = ohe_audio.unsqueeze(0).to(device)\n",
    "#             ohe_speaker = ohe_speaker.unsqueeze(0).to(device)\n",
    "#             encoded = model._encoder(ohe_audio)\n",
    "#             _, valid_quantize, _ = model._vq_vae(encoded)\n",
    "            \n",
    "#             valid_reconstructions = model._decoder.incremental_forward(ohe_audio[:,:,0:1], \n",
    "#                                                                valid_quantize, \n",
    "#                                                                ohe_speaker, \n",
    "#                                                                T=16126)\n",
    "            \n",
    "                \n",
    "            recon = valid_reconstructions.squeeze().argmax(dim=0).detach().cpu().numpy()\n",
    "            mu_encoded = (recon + 1) / 128 - 1\n",
    "            mu_decoded = mu_law_decode(mu_encoded, mu=256)\n",
    "            generated_file = np.append(generated_file, mu_decoded)\n",
    "        print(len(generated_file))\n",
    "        librosa.output.write_wav(filename,  generated_file, sr=sr)\n",
    "    return generated_file"
   ]
  },
  {
   "cell_type": "code",
   "execution_count": 16,
   "metadata": {
    "scrolled": true
   },
   "outputs": [
    {
     "data": {
      "image/png": "[encoded data removed]",
      "text/plain": [
       "<Figure size 432x288 with 1 Axes>"
      ]
     },
     "metadata": {
      "needs_background": "light"
     },
     "output_type": "display_data"
    }
   ],
   "source": [
    "embeddings = model._vq_vae._embedding.weight.data.cpu()\n",
    "from sklearn.decomposition import PCA\n",
    "pca = PCA(n_components=2)\n",
    "y = pca.fit_transform(embeddings)\n",
    "plt.scatter(y[:,0],y[:,1])\n",
    "plt.show()"
   ]
  },
  {
   "cell_type": "code",
   "execution_count": 17,
   "metadata": {},
   "outputs": [
    {
     "data": {
      "text/plain": [
       "tensor([[ 7.0209e-41,  7.0209e-41,  7.0209e-41,  ...,  7.0209e-41,\n",
       "          7.0209e-41, -7.0209e-41],\n",
       "        [ 7.0209e-41, -7.0209e-41, -7.0209e-41,  ..., -7.0209e-41,\n",
       "         -7.0209e-41, -7.0209e-41],\n",
       "        [-7.0209e-41, -7.0209e-41,  7.0209e-41,  ..., -7.0209e-41,\n",
       "          7.0209e-41,  7.0209e-41],\n",
       "        ...,\n",
       "        [ 7.8871e-01,  1.9195e-01, -4.5106e-01,  ...,  6.7328e-01,\n",
       "         -5.9341e-01, -7.2493e-01],\n",
       "        [ 9.0710e-01,  6.5645e-01, -8.6369e-01,  ...,  6.8986e-01,\n",
       "         -8.7497e-01, -9.0332e-01],\n",
       "        [-8.9677e-01,  1.0546e-01, -3.6687e-01,  ...,  2.8703e-01,\n",
       "          5.8321e-01,  2.7874e-01]])"
      ]
     },
     "execution_count": 17,
     "metadata": {},
     "output_type": "execute_result"
    }
   ],
   "source": [
    "embeddings"
   ]
  },
  {
   "cell_type": "code",
   "execution_count": 18,
   "metadata": {},
   "outputs": [
    {
     "name": "stdout",
     "output_type": "stream",
     "text": [
      "45237\n",
      "1\n",
      "tensor([146, 154, 152,  ...,  96, 175, 129])\n",
      "tensor(255) tensor(2)\n",
      "tensor([ 73, 190, 147,  ..., 106, 142, 151])\n",
      "tensor(250) tensor(8)\n"
     ]
    },
    {
     "ename": "KeyboardInterrupt",
     "evalue": "",
     "output_type": "error",
     "traceback": [
      "\u001b[1;31m---------------------------------------------------------------------------\u001b[0m",
      "\u001b[1;31mKeyboardInterrupt\u001b[0m                         Traceback (most recent call last)",
      "\u001b[1;32m<ipython-input-18-700fc5e743eb>\u001b[0m in \u001b[0;36m<module>\u001b[1;34m\u001b[0m\n\u001b[1;32m----> 1\u001b[1;33m \u001b[0mreconstructions\u001b[0m \u001b[1;33m=\u001b[0m \u001b[0mgenerate\u001b[0m\u001b[1;33m(\u001b[0m\u001b[0moriginal_wav\u001b[0m \u001b[1;33m=\u001b[0m \u001b[1;34m'./VCTK/wav48/p225/p225_001.wav'\u001b[0m\u001b[1;33m,\u001b[0m \u001b[0mspeaker\u001b[0m \u001b[1;33m=\u001b[0m \u001b[1;34m'p226'\u001b[0m\u001b[1;33m,\u001b[0m \u001b[0mfilename\u001b[0m \u001b[1;33m=\u001b[0m \u001b[1;34m\"generated1.wav\"\u001b[0m\u001b[1;33m)\u001b[0m\u001b[1;33m\u001b[0m\u001b[1;33m\u001b[0m\u001b[0m\n\u001b[0m\u001b[0;32m      2\u001b[0m \u001b[0mmodel\u001b[0m\u001b[1;33m.\u001b[0m\u001b[0mload_state_dict\u001b[0m\u001b[1;33m(\u001b[0m\u001b[0mtorch\u001b[0m\u001b[1;33m.\u001b[0m\u001b[0mload\u001b[0m\u001b[1;33m(\u001b[0m\u001b[1;34m\"model_epoch\"\u001b[0m\u001b[1;33m+\u001b[0m\u001b[0mstr\u001b[0m\u001b[1;33m(\u001b[0m\u001b[0margs\u001b[0m\u001b[1;33m.\u001b[0m\u001b[0mload\u001b[0m\u001b[1;33m)\u001b[0m\u001b[1;33m,\u001b[0m \u001b[0mmap_location\u001b[0m\u001b[1;33m=\u001b[0m\u001b[1;34m\"cuda:0\"\u001b[0m\u001b[1;33m)\u001b[0m\u001b[1;33m)\u001b[0m\u001b[1;33m\u001b[0m\u001b[1;33m\u001b[0m\u001b[0m\n\u001b[0;32m      3\u001b[0m \u001b[0mreconstructions\u001b[0m \u001b[1;33m=\u001b[0m \u001b[0mgenerate\u001b[0m\u001b[1;33m(\u001b[0m\u001b[0moriginal_wav\u001b[0m \u001b[1;33m=\u001b[0m \u001b[1;34m'./VCTK/wav48/p225/p225_001.wav'\u001b[0m\u001b[1;33m,\u001b[0m \u001b[0mspeaker\u001b[0m \u001b[1;33m=\u001b[0m \u001b[1;34m'p226'\u001b[0m\u001b[1;33m,\u001b[0m \u001b[0mfilename\u001b[0m \u001b[1;33m=\u001b[0m \u001b[1;34m\"generated2.wav\"\u001b[0m\u001b[1;33m)\u001b[0m\u001b[1;33m\u001b[0m\u001b[1;33m\u001b[0m\u001b[0m\n\u001b[0;32m      4\u001b[0m \u001b[0mmodel\u001b[0m\u001b[1;33m.\u001b[0m\u001b[0mload_state_dict\u001b[0m\u001b[1;33m(\u001b[0m\u001b[0mtorch\u001b[0m\u001b[1;33m.\u001b[0m\u001b[0mload\u001b[0m\u001b[1;33m(\u001b[0m\u001b[1;34m\"model_epoch\"\u001b[0m\u001b[1;33m+\u001b[0m\u001b[0mstr\u001b[0m\u001b[1;33m(\u001b[0m\u001b[0margs\u001b[0m\u001b[1;33m.\u001b[0m\u001b[0mload\u001b[0m\u001b[1;33m)\u001b[0m\u001b[1;33m,\u001b[0m \u001b[0mmap_location\u001b[0m\u001b[1;33m=\u001b[0m\u001b[1;34m\"cuda:0\"\u001b[0m\u001b[1;33m)\u001b[0m\u001b[1;33m)\u001b[0m\u001b[1;33m\u001b[0m\u001b[1;33m\u001b[0m\u001b[0m\n\u001b[0;32m      5\u001b[0m \u001b[0mreconstructions\u001b[0m \u001b[1;33m=\u001b[0m \u001b[0mgenerate\u001b[0m\u001b[1;33m(\u001b[0m\u001b[0moriginal_wav\u001b[0m \u001b[1;33m=\u001b[0m \u001b[1;34m'./VCTK/wav48/p225/p225_001.wav'\u001b[0m\u001b[1;33m,\u001b[0m \u001b[0mspeaker\u001b[0m \u001b[1;33m=\u001b[0m \u001b[1;34m'p226'\u001b[0m\u001b[1;33m,\u001b[0m \u001b[0mfilename\u001b[0m \u001b[1;33m=\u001b[0m \u001b[1;34m\"generated3.wav\"\u001b[0m\u001b[1;33m)\u001b[0m\u001b[1;33m\u001b[0m\u001b[1;33m\u001b[0m\u001b[0m\n",
      "\u001b[1;32m<ipython-input-15-59b4ad97b440>\u001b[0m in \u001b[0;36mgenerate\u001b[1;34m(original_wav, speaker, filename)\u001b[0m\n\u001b[0;32m     38\u001b[0m                                                                \u001b[0mvalid_quantize\u001b[0m\u001b[1;33m,\u001b[0m\u001b[1;33m\u001b[0m\u001b[1;33m\u001b[0m\u001b[0m\n\u001b[0;32m     39\u001b[0m                                                                \u001b[0mohe_speaker\u001b[0m\u001b[1;33m,\u001b[0m\u001b[1;33m\u001b[0m\u001b[1;33m\u001b[0m\u001b[0m\n\u001b[1;32m---> 40\u001b[1;33m                                                                T=16126)\n\u001b[0m\u001b[0;32m     41\u001b[0m \u001b[1;33m\u001b[0m\u001b[0m\n\u001b[0;32m     42\u001b[0m \u001b[1;33m\u001b[0m\u001b[0m\n",
      "\u001b[1;32mD:\\pytorch_vq_vae_audio\\pytorch_vq_vae_audio\\wavenet_vocoder\\wavenet.py\u001b[0m in \u001b[0;36mincremental_forward\u001b[1;34m(self, initial_input, c, g, T, test_inputs, tqdm, softmax, quantize, log_scale_min)\u001b[0m\n\u001b[0;32m    310\u001b[0m             \u001b[0mskips\u001b[0m \u001b[1;33m=\u001b[0m \u001b[1;32mNone\u001b[0m\u001b[1;33m\u001b[0m\u001b[1;33m\u001b[0m\u001b[0m\n\u001b[0;32m    311\u001b[0m             \u001b[1;32mfor\u001b[0m \u001b[0mf\u001b[0m \u001b[1;32min\u001b[0m \u001b[0mself\u001b[0m\u001b[1;33m.\u001b[0m\u001b[0mconv_layers\u001b[0m\u001b[1;33m:\u001b[0m\u001b[1;33m\u001b[0m\u001b[1;33m\u001b[0m\u001b[0m\n\u001b[1;32m--> 312\u001b[1;33m                 \u001b[0mx\u001b[0m\u001b[1;33m,\u001b[0m \u001b[0mh\u001b[0m \u001b[1;33m=\u001b[0m \u001b[0mf\u001b[0m\u001b[1;33m.\u001b[0m\u001b[0mincremental_forward\u001b[0m\u001b[1;33m(\u001b[0m\u001b[0mx\u001b[0m\u001b[1;33m,\u001b[0m \u001b[0mct\u001b[0m\u001b[1;33m,\u001b[0m \u001b[0mgt\u001b[0m\u001b[1;33m)\u001b[0m\u001b[1;33m\u001b[0m\u001b[1;33m\u001b[0m\u001b[0m\n\u001b[0m\u001b[0;32m    313\u001b[0m                 \u001b[0mskips\u001b[0m \u001b[1;33m=\u001b[0m \u001b[0mh\u001b[0m \u001b[1;32mif\u001b[0m \u001b[0mskips\u001b[0m \u001b[1;32mis\u001b[0m \u001b[1;32mNone\u001b[0m \u001b[1;32melse\u001b[0m \u001b[1;33m(\u001b[0m\u001b[0mskips\u001b[0m \u001b[1;33m+\u001b[0m \u001b[0mh\u001b[0m\u001b[1;33m)\u001b[0m\u001b[1;33m\u001b[0m\u001b[1;33m\u001b[0m\u001b[0m\n\u001b[0;32m    314\u001b[0m \u001b[1;33m\u001b[0m\u001b[0m\n",
      "\u001b[1;32mD:\\pytorch_vq_vae_audio\\pytorch_vq_vae_audio\\wavenet_vocoder\\modules.py\u001b[0m in \u001b[0;36mincremental_forward\u001b[1;34m(self, x, c, g)\u001b[0m\n\u001b[0;32m    116\u001b[0m \u001b[1;33m\u001b[0m\u001b[0m\n\u001b[0;32m    117\u001b[0m     \u001b[1;32mdef\u001b[0m \u001b[0mincremental_forward\u001b[0m\u001b[1;33m(\u001b[0m\u001b[0mself\u001b[0m\u001b[1;33m,\u001b[0m \u001b[0mx\u001b[0m\u001b[1;33m,\u001b[0m \u001b[0mc\u001b[0m\u001b[1;33m=\u001b[0m\u001b[1;32mNone\u001b[0m\u001b[1;33m,\u001b[0m \u001b[0mg\u001b[0m\u001b[1;33m=\u001b[0m\u001b[1;32mNone\u001b[0m\u001b[1;33m)\u001b[0m\u001b[1;33m:\u001b[0m\u001b[1;33m\u001b[0m\u001b[1;33m\u001b[0m\u001b[0m\n\u001b[1;32m--> 118\u001b[1;33m         \u001b[1;32mreturn\u001b[0m \u001b[0mself\u001b[0m\u001b[1;33m.\u001b[0m\u001b[0m_forward\u001b[0m\u001b[1;33m(\u001b[0m\u001b[0mx\u001b[0m\u001b[1;33m,\u001b[0m \u001b[0mc\u001b[0m\u001b[1;33m,\u001b[0m \u001b[0mg\u001b[0m\u001b[1;33m,\u001b[0m \u001b[1;32mTrue\u001b[0m\u001b[1;33m)\u001b[0m\u001b[1;33m\u001b[0m\u001b[1;33m\u001b[0m\u001b[0m\n\u001b[0m\u001b[0;32m    119\u001b[0m \u001b[1;33m\u001b[0m\u001b[0m\n\u001b[0;32m    120\u001b[0m     \u001b[1;32mdef\u001b[0m \u001b[0m_forward\u001b[0m\u001b[1;33m(\u001b[0m\u001b[0mself\u001b[0m\u001b[1;33m,\u001b[0m \u001b[0mx\u001b[0m\u001b[1;33m,\u001b[0m \u001b[0mc\u001b[0m\u001b[1;33m,\u001b[0m \u001b[0mg\u001b[0m\u001b[1;33m,\u001b[0m \u001b[0mis_incremental\u001b[0m\u001b[1;33m)\u001b[0m\u001b[1;33m:\u001b[0m\u001b[1;33m\u001b[0m\u001b[1;33m\u001b[0m\u001b[0m\n",
      "\u001b[1;32mD:\\pytorch_vq_vae_audio\\pytorch_vq_vae_audio\\wavenet_vocoder\\modules.py\u001b[0m in \u001b[0;36m_forward\u001b[1;34m(self, x, c, g, is_incremental)\u001b[0m\n\u001b[0;32m    144\u001b[0m         \u001b[1;32mif\u001b[0m \u001b[0mc\u001b[0m \u001b[1;32mis\u001b[0m \u001b[1;32mnot\u001b[0m \u001b[1;32mNone\u001b[0m\u001b[1;33m:\u001b[0m\u001b[1;33m\u001b[0m\u001b[1;33m\u001b[0m\u001b[0m\n\u001b[0;32m    145\u001b[0m             \u001b[1;32massert\u001b[0m \u001b[0mself\u001b[0m\u001b[1;33m.\u001b[0m\u001b[0mconv1x1c\u001b[0m \u001b[1;32mis\u001b[0m \u001b[1;32mnot\u001b[0m \u001b[1;32mNone\u001b[0m\u001b[1;33m\u001b[0m\u001b[1;33m\u001b[0m\u001b[0m\n\u001b[1;32m--> 146\u001b[1;33m             \u001b[0mc\u001b[0m \u001b[1;33m=\u001b[0m \u001b[0m_conv1x1_forward\u001b[0m\u001b[1;33m(\u001b[0m\u001b[0mself\u001b[0m\u001b[1;33m.\u001b[0m\u001b[0mconv1x1c\u001b[0m\u001b[1;33m,\u001b[0m \u001b[0mc\u001b[0m\u001b[1;33m,\u001b[0m \u001b[0mis_incremental\u001b[0m\u001b[1;33m)\u001b[0m\u001b[1;33m\u001b[0m\u001b[1;33m\u001b[0m\u001b[0m\n\u001b[0m\u001b[0;32m    147\u001b[0m             \u001b[0mca\u001b[0m\u001b[1;33m,\u001b[0m \u001b[0mcb\u001b[0m \u001b[1;33m=\u001b[0m \u001b[0mc\u001b[0m\u001b[1;33m.\u001b[0m\u001b[0msplit\u001b[0m\u001b[1;33m(\u001b[0m\u001b[0mc\u001b[0m\u001b[1;33m.\u001b[0m\u001b[0msize\u001b[0m\u001b[1;33m(\u001b[0m\u001b[0msplitdim\u001b[0m\u001b[1;33m)\u001b[0m \u001b[1;33m//\u001b[0m \u001b[1;36m2\u001b[0m\u001b[1;33m,\u001b[0m \u001b[0mdim\u001b[0m\u001b[1;33m=\u001b[0m\u001b[0msplitdim\u001b[0m\u001b[1;33m)\u001b[0m\u001b[1;33m\u001b[0m\u001b[1;33m\u001b[0m\u001b[0m\n\u001b[0;32m    148\u001b[0m             \u001b[0ma\u001b[0m\u001b[1;33m,\u001b[0m \u001b[0mb\u001b[0m \u001b[1;33m=\u001b[0m \u001b[0ma\u001b[0m \u001b[1;33m+\u001b[0m \u001b[0mca\u001b[0m\u001b[1;33m,\u001b[0m \u001b[0mb\u001b[0m \u001b[1;33m+\u001b[0m \u001b[0mcb\u001b[0m\u001b[1;33m\u001b[0m\u001b[1;33m\u001b[0m\u001b[0m\n",
      "\u001b[1;32mD:\\pytorch_vq_vae_audio\\pytorch_vq_vae_audio\\wavenet_vocoder\\modules.py\u001b[0m in \u001b[0;36m_conv1x1_forward\u001b[1;34m(conv, x, is_incremental)\u001b[0m\n\u001b[0;32m     41\u001b[0m     \"\"\"\n\u001b[0;32m     42\u001b[0m     \u001b[1;32mif\u001b[0m \u001b[0mis_incremental\u001b[0m\u001b[1;33m:\u001b[0m\u001b[1;33m\u001b[0m\u001b[1;33m\u001b[0m\u001b[0m\n\u001b[1;32m---> 43\u001b[1;33m         \u001b[0mx\u001b[0m \u001b[1;33m=\u001b[0m \u001b[0mconv\u001b[0m\u001b[1;33m.\u001b[0m\u001b[0mincremental_forward\u001b[0m\u001b[1;33m(\u001b[0m\u001b[0mx\u001b[0m\u001b[1;33m)\u001b[0m\u001b[1;33m\u001b[0m\u001b[1;33m\u001b[0m\u001b[0m\n\u001b[0m\u001b[0;32m     44\u001b[0m     \u001b[1;32melse\u001b[0m\u001b[1;33m:\u001b[0m\u001b[1;33m\u001b[0m\u001b[1;33m\u001b[0m\u001b[0m\n\u001b[0;32m     45\u001b[0m         \u001b[0mx\u001b[0m \u001b[1;33m=\u001b[0m \u001b[0mconv\u001b[0m\u001b[1;33m(\u001b[0m\u001b[0mx\u001b[0m\u001b[1;33m)\u001b[0m\u001b[1;33m\u001b[0m\u001b[1;33m\u001b[0m\u001b[0m\n",
      "\u001b[1;32mD:\\pytorch_vq_vae_audio\\pytorch_vq_vae_audio\\wavenet_vocoder\\conv.py\u001b[0m in \u001b[0;36mincremental_forward\u001b[1;34m(self, input_data)\u001b[0m\n\u001b[0;32m     47\u001b[0m         \u001b[1;31m#print(\"input_data.shape\", input_data.shape)\u001b[0m\u001b[1;33m\u001b[0m\u001b[1;33m\u001b[0m\u001b[1;33m\u001b[0m\u001b[0m\n\u001b[0;32m     48\u001b[0m         \u001b[0moutput\u001b[0m \u001b[1;33m=\u001b[0m \u001b[0mF\u001b[0m\u001b[1;33m.\u001b[0m\u001b[0mlinear\u001b[0m\u001b[1;33m(\u001b[0m\u001b[0minput_data\u001b[0m\u001b[1;33m.\u001b[0m\u001b[0mview\u001b[0m\u001b[1;33m(\u001b[0m\u001b[0mbsz\u001b[0m\u001b[1;33m,\u001b[0m \u001b[1;33m-\u001b[0m\u001b[1;36m1\u001b[0m\u001b[1;33m)\u001b[0m\u001b[1;33m,\u001b[0m \u001b[0mweight\u001b[0m\u001b[1;33m,\u001b[0m \u001b[0mself\u001b[0m\u001b[1;33m.\u001b[0m\u001b[0mbias\u001b[0m\u001b[1;33m)\u001b[0m\u001b[1;33m\u001b[0m\u001b[1;33m\u001b[0m\u001b[0m\n\u001b[1;32m---> 49\u001b[1;33m         \u001b[1;32mreturn\u001b[0m \u001b[0moutput\u001b[0m\u001b[1;33m.\u001b[0m\u001b[0mview\u001b[0m\u001b[1;33m(\u001b[0m\u001b[0mbsz\u001b[0m\u001b[1;33m,\u001b[0m \u001b[1;36m1\u001b[0m\u001b[1;33m,\u001b[0m \u001b[1;33m-\u001b[0m\u001b[1;36m1\u001b[0m\u001b[1;33m)\u001b[0m\u001b[1;33m\u001b[0m\u001b[1;33m\u001b[0m\u001b[0m\n\u001b[0m\u001b[0;32m     50\u001b[0m \u001b[1;33m\u001b[0m\u001b[0m\n\u001b[0;32m     51\u001b[0m     \u001b[1;32mdef\u001b[0m \u001b[0mclear_buffer\u001b[0m\u001b[1;33m(\u001b[0m\u001b[0mself\u001b[0m\u001b[1;33m)\u001b[0m\u001b[1;33m:\u001b[0m\u001b[1;33m\u001b[0m\u001b[1;33m\u001b[0m\u001b[0m\n",
      "\u001b[1;31mKeyboardInterrupt\u001b[0m: "
     ]
    }
   ],
   "source": [
    "reconstructions = generate(original_wav = './VCTK/wav48/p225/p225_001.wav', speaker = 'p226', filename = \"generated1.wav\")\n",
    "model.load_state_dict(torch.load(\"model_epoch\"+str(args.load), map_location=\"cuda:0\"))\n",
    "reconstructions = generate(original_wav = './VCTK/wav48/p225/p225_001.wav', speaker = 'p226', filename = \"generated2.wav\")\n",
    "model.load_state_dict(torch.load(\"model_epoch\"+str(args.load), map_location=\"cuda:0\"))\n",
    "reconstructions = generate(original_wav = './VCTK/wav48/p225/p225_001.wav', speaker = 'p226', filename = \"generated3.wav\")\n",
    "model.load_state_dict(torch.load(\"model_epoch\"+str(args.load), map_location=\"cuda:0\"))\n",
    "reconstructions = generate(original_wav = './VCTK/wav48/p225/p225_001.wav', speaker = 'p226', filename = \"generated4.wav\")\n",
    "model.load_state_dict(torch.load(\"model_epoch\"+str(args.load), map_location=\"cuda:0\"))\n",
    "reconstructions = generate(original_wav = './VCTK/wav48/p225/p225_001.wav', speaker = 'p226', filename = \"generated5.wav\")\n",
    "model.load_state_dict(torch.load(\"model_epoch\"+str(args.load), map_location=\"cuda:0\"))\n",
    "reconstructions = generate(original_wav = './VCTK/wav48/p225/p225_001.wav', speaker = 'p226', filename = \"generated6.wav\")\n",
    "model.load_state_dict(torch.load(\"model_epoch\"+str(args.load), map_location=\"cuda:0\"))\n",
    "reconstructions = generate(original_wav = './VCTK/wav48/p225/p225_001.wav', speaker = 'p226', filename = \"generated7.wav\")\n",
    "model.load_state_dict(torch.load(\"model_epoch\"+str(args.load), map_location=\"cuda:0\"))\n",
    "reconstructions = generate(original_wav = './VCTK/wav48/p225/p225_001.wav', speaker = 'p226', filename = \"generated8.wav\")\n",
    "model.load_state_dict(torch.load(\"model_epoch\"+str(args.load), map_location=\"cuda:0\"))\n",
    "reconstructions = generate(original_wav = './VCTK/wav48/p225/p225_001.wav', speaker = 'p226', filename = \"generated9.wav\")\n",
    "model.load_state_dict(torch.load(\"model_epoch\"+str(args.load), map_location=\"cuda:0\"))\n",
    "reconstructions = generate(original_wav = './VCTK/wav48/p225/p225_001.wav', speaker = 'p226', filename = \"generated10.wav\")\n",
    "model.load_state_dict(torch.load(\"model_epoch\"+str(args.load), map_location=\"cuda:0\"))\n",
    "reconstructions = generate(original_wav = './VCTK/wav48/p225/p225_001.wav', speaker = 'p226', filename = \"generated11.wav\")\n",
    "model.load_state_dict(torch.load(\"model_epoch\"+str(args.load), map_location=\"cuda:0\"))\n",
    "reconstructions = generate(original_wav = './VCTK/wav48/p225/p225_001.wav', speaker = 'p226', filename = \"generated12.wav\")\n",
    "model.load_state_dict(torch.load(\"model_epoch\"+str(args.load), map_location=\"cuda:0\"))\n",
    "reconstructions = generate(original_wav = './VCTK/wav48/p225/p225_001.wav', speaker = 'p226', filename = \"generated13.wav\")\n",
    "model.load_state_dict(torch.load(\"model_epoch\"+str(args.load), map_location=\"cuda:0\"))\n",
    "reconstructions = generate(original_wav = './VCTK/wav48/p225/p225_001.wav', speaker = 'p226', filename = \"generated14.wav\")\n",
    "model.load_state_dict(torch.load(\"model_epoch\"+str(args.load), map_location=\"cuda:0\"))\n",
    "reconstructions = generate(original_wav = './VCTK/wav48/p225/p225_001.wav', speaker = 'p226', filename = \"generated15.wav\")"
   ]
  },
  {
   "cell_type": "code",
   "execution_count": null,
   "metadata": {},
   "outputs": [],
   "source": [
    "model.eval()\n",
    "\n",
    "original_wav = './VCTK/wav48/p225/p225_002.wav'\n",
    "speaker_index = speaker_dic['p226']\n",
    "\n",
    "wav, sr = librosa.load(original_wav)\n",
    "print(len(wav))\n",
    "speaker = np.eye(number_of_speakers)[speaker_index]\n",
    "speaker = torch.tensor(speaker)\n",
    "speaker = speaker.unsqueeze(0)\n",
    "\n",
    "normalized = librosa.util.normalize(wav)\n",
    "quantized = quantize_data(normalized, 256)\n",
    "\n",
    "max_audio_start = quantized.shape[0] - 16126\n",
    "if (max_audio_start > 0):\n",
    "    audio_start = random.randint(0, max_audio_start)\n",
    "    sample = quantized[audio_start:audio_start+16126]\n",
    "else :\n",
    "    sample = np.append(quantized, np.zeros(16126 - len(quantized))).astype(int)\n",
    "\n",
    "sample = torch.from_numpy(sample)\n",
    "ohe_audio = torch.FloatTensor(256, 16126).zero_()\n",
    "ohe_audio.scatter_(0, sample.unsqueeze(0), 1.)\n",
    "\n",
    "speaker_id = torch.from_numpy(np.array(speaker_index)).unsqueeze(0).unsqueeze(0).long()\n",
    "ohe_speaker = torch.FloatTensor(number_of_speakers, 1).zero_()\n",
    "ohe_speaker.scatter_(0, speaker_id, 1.)\n",
    "\n",
    "\n",
    "valid_originals = ohe_audio.to(device).unsqueeze(0)\n",
    "speaker_id = ohe_speaker.to(device).unsqueeze(0)\n",
    "\n",
    "with torch.no_grad():\n",
    "    encoded = model._encoder(valid_originals)\n",
    "\n",
    "    _, valid_quantize, _ = model._vq_vae(encoded)\n",
    "    #valid_reconstructions = model._decoder(valid_originals, valid_quantize, speaker_id) - this one works fine\n",
    "    valid_reconstructions = model._decoder.incremental_forward(valid_originals[:,:,0:1], \n",
    "                                                               valid_quantize, \n",
    "                                                               speaker_id, \n",
    "                                                               T=16126)"
   ]
  },
  {
   "cell_type": "code",
   "execution_count": null,
   "metadata": {
    "scrolled": true
   },
   "outputs": [],
   "source": [
    "plt.plot(valid_quantize[:,0,:].detach().cpu().numpy().ravel())\n",
    "plt.show()"
   ]
  },
  {
   "cell_type": "code",
   "execution_count": null,
   "metadata": {
    "scrolled": false
   },
   "outputs": [],
   "source": [
    "recon = valid_reconstructions.squeeze().argmax(dim=0).detach().cpu().numpy()\n",
    "plt.plot(recon)\n",
    "plt.show()"
   ]
  },
  {
   "cell_type": "code",
   "execution_count": null,
   "metadata": {
    "scrolled": true
   },
   "outputs": [],
   "source": [
    "orig = valid_originals.squeeze().argmax(dim=0).detach().cpu().numpy()\n",
    "#plt.plot(valid_quantize.detach().numpy().ravel())\n",
    "plt.plot(orig)\n",
    "plt.show()"
   ]
  },
  {
   "cell_type": "code",
   "execution_count": null,
   "metadata": {},
   "outputs": [],
   "source": [
    "recon = valid_reconstructions.squeeze().argmax(dim=0).detach().cpu().numpy()\n",
    "mu_encoded = (recon + 1) / 128 - 1\n",
    "mu_decoded = mu_law_decode(mu_encoded, mu=256)\n",
    "plt.plot(mu_decoded[2000:4000])\n",
    "plt.show()"
   ]
  },
  {
   "cell_type": "code",
   "execution_count": null,
   "metadata": {
    "scrolled": true
   },
   "outputs": [],
   "source": [
    "recon = valid_originals.squeeze().argmax(dim=0).detach().cpu().numpy()\n",
    "mu_encoded_orig = (recon + 1) / 128 - 1\n",
    "mu_decoded_orig = mu_law_decode(mu_encoded_orig, mu=256)\n",
    "plt.plot(mu_decoded_orig[2000:4000])\n",
    "plt.show()"
   ]
  },
  {
   "cell_type": "code",
   "execution_count": null,
   "metadata": {},
   "outputs": [],
   "source": [
    "from IPython.display import Audio, display"
   ]
  },
  {
   "cell_type": "code",
   "execution_count": null,
   "metadata": {},
   "outputs": [],
   "source": [
    "display(Audio(mu_decoded, rate=22050))"
   ]
  },
  {
   "cell_type": "code",
   "execution_count": null,
   "metadata": {},
   "outputs": [],
   "source": [
    "display(Audio(mu_decoded_orig, rate=22050))"
   ]
  },
  {
   "cell_type": "markdown",
   "metadata": {},
   "source": [
    "## View Embedding"
   ]
  },
  {
   "cell_type": "code",
   "execution_count": null,
   "metadata": {},
   "outputs": [],
   "source": [
    "# model.load_state_dict(torch.load(\"model_epoch\"+str(495), map_location=\"cuda:0\"))\n",
    "# model.load_state_dict(torch.load(\"mymodel\", map_location=\"cuda:0\"))"
   ]
  },
  {
   "cell_type": "code",
   "execution_count": null,
   "metadata": {},
   "outputs": [],
   "source": [
    "embeddings = model._vq_vae._embedding.weight.data.cpu()\n",
    "#print(embeddings)\n",
    "#print(embeddings.shape)\n",
    "embeddings"
   ]
  },
  {
   "cell_type": "code",
   "execution_count": null,
   "metadata": {
    "scrolled": false
   },
   "outputs": [],
   "source": [
    "from sklearn.decomposition import PCA\n",
    "pca = PCA(n_components=2)\n",
    "y = pca.fit_transform(embeddings)\n",
    "plt.scatter(y[:,0],y[:,1])\n",
    "plt.show()"
   ]
  },
  {
   "cell_type": "code",
   "execution_count": null,
   "metadata": {},
   "outputs": [],
   "source": []
  }
 ],
 "metadata": {
  "kernelspec": {
   "display_name": "Python 3",
   "language": "python",
   "name": "python3"
  },
  "language_info": {
   "codemirror_mode": {
    "name": "ipython",
    "version": 3
   },
   "file_extension": ".py",
   "mimetype": "text/x-python",
   "name": "python",
   "nbconvert_exporter": "python",
   "pygments_lexer": "ipython3",
   "version": "3.7.9"
  }
 },
 "nbformat": 4,
 "nbformat_minor": 2
}
