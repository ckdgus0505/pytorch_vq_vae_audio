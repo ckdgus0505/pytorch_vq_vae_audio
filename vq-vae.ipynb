{
 "cells": [
  {
   "cell_type": "markdown",
   "metadata": {},
   "source": [
    "# [VQ-VAE](https://arxiv.org/abs/1711.00937) for audio in PyTorch\n",
    "\n",
    "This notebook is based on \n",
    "https://github.com/zalandoresearch/pytorch-vq-vae\n",
    "\n",
    "## Introduction\n",
    "\n",
    "Variational Auto Encoders (VAEs) can be thought of as what all but the last layer of a neural network is doing, namely feature extraction or seperating out the data. Thus given some data we can think of using a neural network for representation generation. \n",
    "\n",
    "Recall that the goal of a generative model is to estimate the probability distribution of high dimensional data such as images, videos, audio or even text by learning the underlying structure in the data as well as the dependencies between the different elements of the data. This is very useful since we can then use this representation to generate new data with similar properties. This way we can also learn useful features from the data in an unsupervised fashion.\n",
    "\n",
    "The VQ-VAE uses a discrete latent representation mostly because many important real-world objects are discrete. For example in images we might have categories like \"Cat\", \"Car\", etc. and it might not make sense to interpolate between these categories. Discrete representations are also easier to model since each category has a single value whereas if we had a continous latent space then we will need to normalize this density function and learn the dependencies between the different variables which could be very complex.\n",
    "\n",
    "### Code\n",
    "\n",
    "I have followed the code from the TensorFlow implementation by the author which you can find here [vqvae.py](https://github.com/deepmind/sonnet/blob/master/sonnet/python/modules/nets/vqvae.py) and [vqvae_example.ipynb](https://github.com/deepmind/sonnet/blob/master/sonnet/examples/vqvae_example.ipynb). \n",
    "\n",
    "Another PyTorch implementation is found at [pytorch-vqvae](https://github.com/ritheshkumar95/pytorch-vqvae).\n",
    "\n",
    "\n",
    "## Basic Idea"
   ]
  },
  {
   "cell_type": "markdown",
   "metadata": {},
   "source": [
    "We start by defining a latent embedding space of dimension `[K, D]` where `K` are the number of embeddings and `D` is the dimensionality of each latent embeddng vector $e_i$.\n",
    "\n",
    "The model will take in batches of waveforms, of size 16126 for our example, and pass it through a ConvNet encoder producing some output, where we make sure the channels are the same as the dimensionality of the latent embedding vectors. To calculate the discrete latent variable we find the nearest embedding vector and output it's index. \n",
    "\n",
    "The input to the decoder is the embedding vector corresponding to the index which is passed through the decoder to produce the reconstructed audio. \n",
    "\n",
    "Since the nearest neighbour lookup has no real gradient in the backward pass we simply pass the gradients from the decoder to the encoder  unaltered. The intuition is that since the output representation of the encoder and the input to the decoder share the same `D` channel dimensional space, the gradients contain useful information for how the encoder has to change its output to lower the reconstruction loss.\n",
    "\n",
    "## Loss\n",
    "\n",
    "The total loss is composed of three components:\n",
    "\n",
    "1. reconstruction loss which optimizes the decoder and encoder\n",
    "1. due to the fact that gradients bypass the embedding, we use a dictionary learning algorithm  which uses an $l_2$  error to move the embedding vectors $e_i$ towards the encoder output\n",
    "1. also since the volume of the embedding space is dimensionless, it can grow arbirtarily if the embeddings $e_i$ do not train as fast as  the encoder parameters, and thus we add a commitment loss to make sure that the encoder commits to an embedding"
   ]
  },
  {
   "cell_type": "code",
   "execution_count": 1,
   "metadata": {},
   "outputs": [],
   "source": [
    "import os\n",
    "import subprocess\n",
    "\n",
    "import math\n",
    "\n",
    "import matplotlib.pyplot as plt\n",
    "import numpy as np\n",
    "import pickle\n",
    "\n",
    "import torch\n",
    "import torch.nn as nn\n",
    "import torch.nn.functional as F\n",
    "from torch.utils.data import DataLoader\n",
    "from torch.utils.data.sampler import Sampler\n",
    "import torch.optim as optim\n",
    "\n",
    "from audio_loader import VCTK\n",
    "from wavenet_vocoder.wavenet import WaveNet\n",
    "from wavenet_vocoder.wavenet import receptive_field_size"
   ]
  },
  {
   "cell_type": "code",
   "execution_count": 3,
   "metadata": {},
   "outputs": [],
   "source": [
    "device = torch.device(\"cuda\")"
   ]
  },
  {
   "cell_type": "code",
   "execution_count": 4,
   "metadata": {},
   "outputs": [],
   "source": [
    "class SubsetSequentialSampler(Sampler):\n",
    "    r\"\"\"Samples elements from a given list of indices sequentially, always in the same order.\n",
    "\n",
    "    Arguments:\n",
    "        indices (sequence): a sequence of indices\n",
    "    \"\"\"\n",
    "\n",
    "    def __init__(self, indices):\n",
    "        self.indices = indices\n",
    "\n",
    "    def __iter__(self):\n",
    "        return iter(self.indices)\n",
    "    \n",
    "    def __len__(self):\n",
    "        return len(self.indices)"
   ]
  },
  {
   "cell_type": "markdown",
   "metadata": {},
   "source": [
    "## Vector Quantizer Layer\n",
    "\n",
    "This layer takes a tensor to be quantized. The channel dimension will be used as the space in which to quantize. All other dimensions will be flattened and will be seen as different examples to quantize.\n",
    "\n",
    "The output tensor will have the same shape as the input.\n",
    "\n",
    "As an example for a `BCL` tensor of shape `[16, 64, 32]`, we will first convert it to an `BLC` tensor of shape `[16, 32, 64]` and then reshape it into `[512, 64]` and all `512` vectors of size `64`  will be quantized independently. In otherwords, the channels are used as the space in which to quantize. All other dimensions will be flattened and be seen as different examples to quantize, `512` in this case. The number of channels of the encoder output must be equal to the embedding_dim."
   ]
  },
  {
   "cell_type": "code",
   "execution_count": 5,
   "metadata": {},
   "outputs": [],
   "source": [
    "class VectorQuantizer(nn.Module):\n",
    "    def __init__(self, num_embeddings, embedding_dim, commitment_cost):\n",
    "        super(VectorQuantizer, self).__init__()\n",
    "        \n",
    "        self._embedding_dim = embedding_dim\n",
    "        self._num_embeddings = num_embeddings\n",
    "        \n",
    "        self._embedding = nn.Embedding(self._num_embeddings, self._embedding_dim)\n",
    "        self._embedding.weight.data.normal_()\n",
    "        self._commitment_cost = commitment_cost\n",
    "\n",
    "    def forward(self, inputs):\n",
    "        assert len(inputs.shape) == 3\n",
    "        # convert inputs from BCL -> BLC (B - batch size, C - channels, L - length)\n",
    "        inputs = inputs.permute(0, 2, 1).contiguous()\n",
    "        input_shape = inputs.shape\n",
    "        \n",
    "        # Flatten input\n",
    "        flat_input = inputs.view(-1, self._embedding_dim)\n",
    "    \n",
    "        # Calculate distances\n",
    "        distances = (torch.sum(flat_input**2, dim=1, keepdim=True) \n",
    "                    + torch.sum(self._embedding.weight**2, dim=1)\n",
    "                    - 2 * torch.matmul(flat_input, self._embedding.weight.t()))\n",
    "            \n",
    "        # Encoding\n",
    "        encoding_indices = torch.argmin(distances, dim=1).unsqueeze(1)\n",
    "        encodings = torch.zeros(encoding_indices.shape[0], self._num_embeddings).to(device)\n",
    "        encodings.scatter_(1, encoding_indices, 1)\n",
    "        \n",
    "        # Quantize and unflatten\n",
    "        quantized = torch.matmul(encodings, self._embedding.weight).view(input_shape)\n",
    "        \n",
    "        # Loss\n",
    "        e_latent_loss = torch.mean((quantized.detach() - inputs)**2)\n",
    "        q_latent_loss = torch.mean((quantized - inputs.detach())**2)\n",
    "        loss = q_latent_loss + self._commitment_cost * e_latent_loss\n",
    "        \n",
    "        quantized = inputs + (quantized - inputs).detach()\n",
    "        avg_probs = torch.mean(encodings, dim=0)\n",
    "        perplexity = torch.exp(-torch.sum(avg_probs * torch.log(avg_probs + 1e-10)))\n",
    "        \n",
    "        # convert quantized from BLC -> BCL\n",
    "        return loss, quantized.permute(0, 2, 1).contiguous(), perplexity"
   ]
  },
  {
   "cell_type": "markdown",
   "metadata": {},
   "source": [
    "We will also implement a slightly modified version  which will use exponential moving averages to update the embedding vectors instead of an auxillary loss. This has the advantage that the embedding updates are independent of the choice of optimizer for the encoder, decoder and other parts of the architecture. For most experiments the EMA version trains faster than the non-EMA version."
   ]
  },
  {
   "cell_type": "code",
   "execution_count": 38,
   "metadata": {},
   "outputs": [],
   "source": [
    "class VectorQuantizerEMA(nn.Module):\n",
    "    def __init__(self, num_embeddings, embedding_dim, commitment_cost, decay, epsilon=1e-5):\n",
    "        super(VectorQuantizerEMA, self).__init__()\n",
    "        \n",
    "        self._embedding_dim = embedding_dim\n",
    "        self._num_embeddings = num_embeddings\n",
    "        \n",
    "        self._embedding = nn.Embedding(self._num_embeddings, self._embedding_dim)\n",
    "        self._embedding.weight.data.normal_()\n",
    "        self._commitment_cost = commitment_cost\n",
    "        \n",
    "        self.register_buffer('_ema_cluster_size', torch.zeros(num_embeddings))\n",
    "        self._ema_w = nn.Parameter(torch.Tensor(num_embeddings, self._embedding_dim))\n",
    "        self._ema_w.data.normal_()\n",
    "        \n",
    "        self._decay = decay\n",
    "        self._epsilon = epsilon\n",
    "\n",
    "    def forward(self, inputs):\n",
    "        # convert inputs from BCL -> BLC\n",
    "        inputs = inputs.permute(0, 2, 1).contiguous()\n",
    "        input_shape = inputs.shape\n",
    "        # Flatten input\n",
    "        flat_input = inputs.view(-1, self._embedding_dim)\n",
    "\n",
    "        # Calculate distances\n",
    "        distances = (torch.sum(flat_input**2, dim=1, keepdim=True) \n",
    "                    + torch.sum(self._embedding.weight**2, dim=1)\n",
    "                    - 2 * torch.matmul(flat_input, self._embedding.weight.t()))\n",
    "            \n",
    "        # Encoding\n",
    "        encoding_indices = torch.argmin(distances, dim=1).unsqueeze(1)\n",
    "        encodings = torch.zeros(encoding_indices.shape[0], self._num_embeddings).to(device)\n",
    "        encodings.scatter_(1, encoding_indices, 1)\n",
    "        \n",
    "        # Use EMA to update the embedding vectors\n",
    "        if self.training:\n",
    "            self._ema_cluster_size = self._ema_cluster_size * self._decay + \\\n",
    "                                     (1 - self._decay) * torch.sum(encodings, 0)\n",
    "    \n",
    "            n = torch.sum(self._ema_cluster_size.data)\n",
    "            self._ema_cluster_size = (\n",
    "                (self._ema_cluster_size + self._epsilon)\n",
    "                / (n + self._num_embeddings * self._epsilon) * n)\n",
    "            \n",
    "            dw = torch.matmul(encodings.t(), flat_input)\n",
    "            self._ema_w = nn.Parameter(self._ema_w * self._decay + (1 - self._decay) * dw)\n",
    "            \n",
    "            self._embedding.weight = nn.Parameter(self._ema_w / self._ema_cluster_size.unsqueeze(1))\n",
    "        \n",
    "        # Quantize and unflatten\n",
    "        quantized = torch.matmul(encodings, self._embedding.weight).view(input_shape)\n",
    "        \n",
    "        # Loss\n",
    "        e_latent_loss = torch.mean((quantized.detach() - inputs)**2)\n",
    "        loss = self._commitment_cost * e_latent_loss\n",
    "        \n",
    "        quantized = inputs + (quantized - inputs).detach()\n",
    "        avg_probs = torch.mean(encodings, dim=0)\n",
    "        perplexity = torch.exp(-torch.sum(avg_probs * torch.log(avg_probs + 1e-10)))\n",
    "        \n",
    "        # convert quantized from BLC -> BCL\n",
    "        return loss, quantized.permute(0, 2, 1).contiguous(), perplexity"
   ]
  },
  {
   "cell_type": "markdown",
   "metadata": {},
   "source": [
    "## Encoder & Decoder Architecture"
   ]
  },
  {
   "cell_type": "code",
   "execution_count": 39,
   "metadata": {},
   "outputs": [],
   "source": [
    "class Encoder(nn.Module):\n",
    "    \"\"\"Audio encoder\n",
    "    The vq-vae paper says that the encoder has 6 strided convolutions with stride 2 and window-size 4.\n",
    "    The number of channels and a nonlinearity is not specified in the paper. I use ReLU.\n",
    "    \"\"\"\n",
    "    def __init__(self, encoding_channels, in_channels=256):\n",
    "        super(Encoder,self).__init__()\n",
    "        self._num_layers = 2 * len(encoding_channels) - 1\n",
    "        self._layers = nn.ModuleList()\n",
    "        for out_channels in encoding_channels:\n",
    "            self._layers.append(nn.Conv1d(in_channels=in_channels,\n",
    "                                    out_channels=out_channels,\n",
    "                                    stride=2,\n",
    "                                    kernel_size=4,\n",
    "                                    padding=0, \n",
    "                                        ))\n",
    "            self._layers.append(nn.ReLU())\n",
    "            in_channels = out_channels\n",
    "        self._layers = self._layers[:-1] #remove ReLu from last layer\n",
    "        \n",
    "    def forward(self, x):\n",
    "        for i in range(self._num_layers):\n",
    "            x = self._layers[i](x)\n",
    "        return x"
   ]
  },
  {
   "cell_type": "code",
   "execution_count": 40,
   "metadata": {},
   "outputs": [],
   "source": [
    "class Model(nn.Module):\n",
    "    def __init__(self,\n",
    "                 encoding_channels,\n",
    "                 num_embeddings, \n",
    "                 embedding_dim,\n",
    "                 commitment_cost, \n",
    "                 layers,\n",
    "                 stacks,\n",
    "                 kernel_size,\n",
    "                 decay=0):\n",
    "        super(Model, self).__init__()       \n",
    "        self._encoder = Encoder(encoding_channels=encoding_channels)\n",
    "        #I tried adding batch normalization here, because:\n",
    "        #the distribution of encoded values needs to be similar to the distribution of embedding vectors\n",
    "        #otherwise we'll see \"posterior collapse\": all values will be assigned to the same embedding vector,\n",
    "        #and stay that way (because vectors which do not get assigned anything do not get updated).\n",
    "        #Batch normalization is a way to fix that. But it didn't work: model\n",
    "        #reproduced voice correctly, but the words were completely wrong.\n",
    "        #self._batch_norm = nn.BatchNorm1d(1)\n",
    "        if decay > 0.0:\n",
    "            self._vq_vae = VectorQuantizerEMA(num_embeddings, embedding_dim, \n",
    "                                              commitment_cost, decay)\n",
    "        else:\n",
    "            self._vq_vae = VectorQuantizer(num_embeddings, embedding_dim,\n",
    "                                           commitment_cost)\n",
    "        self._decoder = WaveNet(out_channels=256, #dimension of ohe mu-quantized signal\n",
    "                                layers=layers, #like in original WaveNet\n",
    "                                stacks=stacks,\n",
    "                                residual_channels=512,\n",
    "                                gate_channels=512,\n",
    "                                skip_out_channels=512,\n",
    "                                kernel_size=kernel_size, \n",
    "                                dropout=1 - 0.95,\n",
    "                                cin_channels=1, #local conditioning channels - on encoder output\n",
    "                                gin_channels=109, #global conditioning channels - on speaker_id\n",
    "                                n_speakers=109,\n",
    "                                weight_normalization=False, \n",
    "                                upsample_conditional_features=True, \n",
    "                                decoding_channels=encoding_channels[::-1],\n",
    "                                use_speaker_embedding=False\n",
    "                               )\n",
    "        self.receptive_field = receptive_field_size(total_layers=layers, num_cycles=stacks, kernel_size=kernel_size)\n",
    "        self.mean = None\n",
    "        self.std = None\n",
    "    def forward(self, x):\n",
    "        audio, target, speaker_id = x\n",
    "        assert len(audio.shape) == 3 # B x C x L \n",
    "        assert audio.shape[1] == 256\n",
    "        z = self._encoder(audio)\n",
    "        #normalize output - subtract mean, divide by standard deviation\n",
    "        #without this, perplexity goes to 1 almost instantly\n",
    "        if self.mean is None:\n",
    "            self.mean = z.mean().detach()\n",
    "        if self.std is None:\n",
    "            self.std = z.std().detach()\n",
    "        z = z - self.mean\n",
    "        z = z / self.std\n",
    "        \n",
    "        vq_loss, quantized, perplexity = self._vq_vae(z)\n",
    "        assert z.shape == quantized.shape\n",
    "        x_recon = self._decoder(audio, quantized, speaker_id, softmax=False)\n",
    "        \n",
    "        x_recon = x_recon[:, :, self.receptive_field:-1]\n",
    "        recon_loss = torch.nn.CrossEntropyLoss()\n",
    "        recon_loss_value = recon_loss(x_recon, target[:, 1:])\n",
    "        loss = recon_loss_value + vq_loss\n",
    "        \n",
    "        return loss, recon_loss_value, x_recon, perplexity"
   ]
  },
  {
   "cell_type": "markdown",
   "metadata": {},
   "source": [
    "# Train"
   ]
  },
  {
   "cell_type": "code",
   "execution_count": 41,
   "metadata": {},
   "outputs": [],
   "source": [
    "num_training_updates = 39818\n",
    "#vector quantizer parameters:\n",
    "encoding_channels = [16,16,16,4,4,1]\n",
    "embedding_dim = 1 #dimension of each vector\n",
    "num_embeddings = 512 #number of vectors\n",
    "commitment_cost = 0.25\n",
    "\n",
    "#wavenet parameters:\n",
    "kernel_size=2\n",
    "total_layers=30\n",
    "num_cycles=3\n",
    "\n",
    "\n",
    "decay = 0.99\n",
    "#decay = 0\n",
    "\n",
    "learning_rate = 3e-4"
   ]
  },
  {
   "cell_type": "code",
   "execution_count": 42,
   "metadata": {},
   "outputs": [
    {
     "name": "stdout",
     "output_type": "stream",
     "text": [
      "3070\n"
     ]
    }
   ],
   "source": [
    "receptive_field = receptive_field_size(total_layers=total_layers, num_cycles=num_cycles, kernel_size=kernel_size)\n",
    "print(receptive_field)"
   ]
  },
  {
   "cell_type": "markdown",
   "metadata": {},
   "source": [
    "## Load data"
   ]
  },
  {
   "cell_type": "code",
   "execution_count": 43,
   "metadata": {},
   "outputs": [],
   "source": [
    "from audio_loader import VCTK"
   ]
  },
  {
   "cell_type": "code",
   "execution_count": 44,
   "metadata": {},
   "outputs": [],
   "source": [
    "model = Model(num_embeddings=num_embeddings,\n",
    "              encoding_channels=encoding_channels,\n",
    "              embedding_dim=embedding_dim, \n",
    "              commitment_cost=commitment_cost, \n",
    "              layers=total_layers,\n",
    "              stacks=num_cycles,\n",
    "              kernel_size=kernel_size,\n",
    "              decay=decay).to(device)"
   ]
  },
  {
   "cell_type": "code",
   "execution_count": 45,
   "metadata": {},
   "outputs": [],
   "source": [
    "optimizer = optim.Adam(model.parameters(), lr=learning_rate, amsgrad=False)\n",
    "scheduler = torch.optim.lr_scheduler.ReduceLROnPlateau(optimizer, \n",
    "                                                           mode='min', \n",
    "                                                           factor=0.2, \n",
    "                                                           patience=50000, \n",
    "                                                           verbose=True, \n",
    "                                                           threshold=0.0001,\n",
    "                                                           threshold_mode='rel',\n",
    "                                                           cooldown=0, \n",
    "                                                           min_lr=0, \n",
    "                                                           eps=1e-08)"
   ]
  },
  {
   "cell_type": "code",
   "execution_count": 48,
   "metadata": {},
   "outputs": [
    {
     "name": "stdout",
     "output_type": "stream",
     "text": [
      "44242\n"
     ]
    }
   ],
   "source": [
    "data = VCTK(\"../VCTK\", receptive_field=receptive_field)\n",
    "print(len(data))\n",
    "indices = np.arange(len(data))\n",
    "test_size = len(data) // 10\n",
    "\n",
    "train_indices = indices[:-test_size]\n",
    "test_indices = indices[-test_size:]\n",
    "\n",
    "training_loader = DataLoader(data, \n",
    "                           batch_size=1,\n",
    "                           shuffle=False, \n",
    "                           num_workers=1,\n",
    "                           sampler=SubsetSequentialSampler(train_indices))\n",
    "\n",
    "validation_loader = DataLoader(data, \n",
    "                           batch_size=1,\n",
    "                           shuffle=False, \n",
    "                           num_workers=1,\n",
    "                           sampler=SubsetSequentialSampler(test_indices))"
   ]
  },
  {
   "cell_type": "code",
   "execution_count": 49,
   "metadata": {},
   "outputs": [
    {
     "data": {
      "text/plain": [
       "(39818, 4424)"
      ]
     },
     "execution_count": 49,
     "metadata": {},
     "output_type": "execute_result"
    }
   ],
   "source": [
    "len(train_indices), len(test_indices)"
   ]
  },
  {
   "cell_type": "code",
   "execution_count": 51,
   "metadata": {},
   "outputs": [],
   "source": [
    "# model.load_state_dict(torch.load(\"mymodel\"))\n",
    "# optimizer.load_state_dict(torch.load(\"myoptim\"))"
   ]
  },
  {
   "cell_type": "code",
   "execution_count": null,
   "metadata": {},
   "outputs": [],
   "source": [
    "model.train()\n",
    "train_res_recon_error = []\n",
    "train_res_perplexity = []\n",
    "# with open(\"errors\", \"rb\") as file:\n",
    "#     train_res_recon_error, train_res_perplexity = pickle.load(file)\n",
    "num_epochs = 7\n",
    "num_restarts = 0\n",
    "for epoch in range(num_epochs):\n",
    "    torch.save(model.state_dict(), \"mymodel\")\n",
    "    torch.save(optimizer.state_dict(), \"myoptim\")\n",
    "    iterator = iter(training_loader)\n",
    "    for i, data_train in enumerate(iterator):\n",
    "\n",
    "        data_train = [data_train[0].to(device),\n",
    "                     data_train[1].to(device),\n",
    "                     data_train[2].to(device)\n",
    "                     ]\n",
    "        optimizer.zero_grad()\n",
    "\n",
    "        loss, recon_error, data_recon, perplexity = model(data_train)\n",
    "        loss.backward()\n",
    "        if perplexity == 1:\n",
    "            num_restarts += 1\n",
    "            model.load_state_dict(torch.load(\"mymodel\"))\n",
    "            optimizer.load_state_dict(torch.load(\"myoptim\"))\n",
    "            break\n",
    "        optimizer.step()\n",
    "        scheduler.step(loss)\n",
    "\n",
    "        train_res_recon_error.append(recon_error.item())\n",
    "        train_res_perplexity.append(perplexity.item())\n",
    "\n",
    "        if (i+1) % 10 == 0:\n",
    "            print('%d iterations' % (i+1))\n",
    "            print('recon_error: %.8f' % np.mean(train_res_recon_error[-100:]))\n",
    "            print('perplexity: %.3f' % np.mean(train_res_perplexity[-100:]))\n",
    "            print()"
   ]
  },
  {
   "cell_type": "code",
   "execution_count": 53,
   "metadata": {},
   "outputs": [
    {
     "name": "stdout",
     "output_type": "stream",
     "text": [
      "7\n"
     ]
    }
   ],
   "source": [
    "print(num_restarts)"
   ]
  },
  {
   "cell_type": "raw",
   "metadata": {},
   "source": [
    "## Plot Loss"
   ]
  },
  {
   "cell_type": "code",
   "execution_count": 54,
   "metadata": {},
   "outputs": [],
   "source": [
    "from scipy.signal import convolve\n",
    "smooth_loss = convolve(train_res_recon_error, [0.001] * 1000, mode='valid')"
   ]
  },
  {
   "cell_type": "code",
   "execution_count": 55,
   "metadata": {},
   "outputs": [
    {
     "data": {
      "text/plain": [
       "Text(0.5, 0, 'iteration')"
      ]
     },
     "execution_count": 55,
     "metadata": {},
     "output_type": "execute_result"
    },
    {
     "data": {
      "image/png": "[encoded data removed]",
      "text/plain": [
       "<Figure size 1152x576 with 2 Axes>"
      ]
     },
     "metadata": {
      "needs_background": "light"
     },
     "output_type": "display_data"
    }
   ],
   "source": [
    "f = plt.figure(figsize=(16,8))\n",
    "ax = f.add_subplot(1,2,1)\n",
    "ax.plot(smooth_loss)\n",
    "#ax.set_yscale('log')\n",
    "ax.set_title('NMSE.')\n",
    "ax.set_xlabel('iteration')\n",
    "\n",
    "ax = f.add_subplot(1,2,2)\n",
    "ax.plot(train_res_perplexity)\n",
    "ax.set_title('Average codebook usage (perplexity).')\n",
    "ax.set_xlabel('iteration')"
   ]
  },
  {
   "cell_type": "markdown",
   "metadata": {},
   "source": [
    "## View Reconstructions"
   ]
  },
  {
   "cell_type": "code",
   "execution_count": null,
   "metadata": {},
   "outputs": [],
   "source": [
    "torch.save(model.state_dict(), \"mymodel\")\n",
    "torch.save(optimizer.state_dict(), \"myoptim\")"
   ]
  },
  {
   "cell_type": "code",
   "execution_count": null,
   "metadata": {},
   "outputs": [],
   "source": [
    "import pickle\n",
    "with open(\"errors\", \"wb\") as file:\n",
    "    pickle.dump([train_res_recon_error, train_res_perplexity], file)"
   ]
  },
  {
   "cell_type": "code",
   "execution_count": null,
   "metadata": {},
   "outputs": [],
   "source": [
    "#test encoding-decoding\n",
    "# import librosa\n",
    "# audio, sr = librosa.load(\"../VCTK/wav48/p225/p225_001.wav\")\n",
    "# normalized = librosa.util.normalize(audio) #divide max(abs(audio))\n",
    "# mu_x = data.mu_law_encode(normalized, 256)\n",
    "# bins = np.linspace(-1, 1, 256)\n",
    "# quantized = np.digitize(mu_x, bins) - 1\n",
    "# plt.plot(quantized[:100])\n",
    "# plt.show()\n",
    "\n",
    "# mu_rec = (quantized + 1) / 128 - 1\n",
    "# plt.plot(mu_rec[:1000], color='red')\n",
    "# plt.plot(mu_x[:1000], color='blue')\n",
    "# plt.show()\n",
    "\n",
    "# decoded = data.mu_law_decode(mu_rec, 256)\n",
    "# plt.plot(normalized[:1000], color='blue')\n",
    "# plt.plot(decoded[:1000], color='red')\n",
    "# plt.show()"
   ]
  },
  {
   "cell_type": "code",
   "execution_count": null,
   "metadata": {},
   "outputs": [],
   "source": [
    "model.eval()\n",
    "\n",
    "data_train = data[train_indices[1]]\n",
    "data_train = [data_train[0].to(device).unsqueeze(0), \n",
    "                  data_train[1].to(device).unsqueeze(0),\n",
    "                  data_train[2].to(device).unsqueeze(0)]\n",
    "valid_originals = data_train[0]\n",
    "speaker_id = data_train[2]\n",
    "\n",
    "with torch.no_grad():\n",
    "    encoded = model._encoder(valid_originals)\n",
    "    encoded -= model.mean\n",
    "    encoded /= model.std\n",
    "    _, valid_quantize, _ = model._vq_vae(encoded)\n",
    "    #valid_reconstructions = model._decoder(valid_originals, valid_quantize, speaker_id) - this one works fine\n",
    "    valid_reconstructions = model._decoder.incremental_forward(valid_originals[:,:,0:1], \n",
    "                                                               valid_quantize, \n",
    "                                                               speaker_id, \n",
    "                                                               T=16126)"
   ]
  },
  {
   "cell_type": "code",
   "execution_count": null,
   "metadata": {},
   "outputs": [],
   "source": [
    "plt.plot(valid_quantize.detach().cpu().numpy().ravel())\n",
    "plt.show()"
   ]
  },
  {
   "cell_type": "code",
   "execution_count": null,
   "metadata": {},
   "outputs": [],
   "source": [
    "recon = valid_reconstructions.squeeze().argmax(dim=0).detach().cpu().numpy()\n",
    "plt.plot(recon)\n",
    "plt.show()"
   ]
  },
  {
   "cell_type": "code",
   "execution_count": null,
   "metadata": {},
   "outputs": [],
   "source": [
    "orig = valid_originals.squeeze().argmax(dim=0).detach().cpu().numpy()\n",
    "#plt.plot(valid_quantize.detach().numpy().ravel())\n",
    "plt.plot(orig)\n",
    "plt.show()"
   ]
  },
  {
   "cell_type": "code",
   "execution_count": null,
   "metadata": {},
   "outputs": [],
   "source": [
    "recon = valid_reconstructions.squeeze().argmax(dim=0).detach().cpu().numpy()\n",
    "mu_encoded = (recon + 1) / 128 - 1\n",
    "mu_decoded = data.mu_law_decode(mu_encoded, mu=256)\n",
    "plt.plot(mu_decoded)\n",
    "plt.show()"
   ]
  },
  {
   "cell_type": "code",
   "execution_count": null,
   "metadata": {},
   "outputs": [],
   "source": [
    "recon = valid_originals.squeeze().argmax(dim=0).detach().cpu().numpy()\n",
    "mu_encoded_orig = (recon + 1) / 128 - 1\n",
    "mu_decoded_orig = data.mu_law_decode(mu_encoded_orig, mu=256)\n",
    "plt.plot(mu_decoded_orig)\n",
    "plt.show()"
   ]
  },
  {
   "cell_type": "code",
   "execution_count": null,
   "metadata": {},
   "outputs": [],
   "source": [
    "from IPython.display import Audio, display"
   ]
  },
  {
   "cell_type": "code",
   "execution_count": null,
   "metadata": {},
   "outputs": [],
   "source": [
    "display(Audio(mu_decoded, rate=22050))"
   ]
  },
  {
   "cell_type": "code",
   "execution_count": null,
   "metadata": {},
   "outputs": [],
   "source": [
    "display(Audio(mu_decoded_orig, rate=22050))"
   ]
  },
  {
   "cell_type": "markdown",
   "metadata": {},
   "source": [
    "## View Embedding"
   ]
  },
  {
   "cell_type": "code",
   "execution_count": 56,
   "metadata": {},
   "outputs": [
    {
     "data": {
      "image/png": "[encoded data removed]",
      "text/plain": [
       "<Figure size 432x288 with 1 Axes>"
      ]
     },
     "metadata": {
      "needs_background": "light"
     },
     "output_type": "display_data"
    }
   ],
   "source": [
    "embeddings = model._vq_vae._embedding.weight.data.cpu()\n",
    "plt.plot(sorted(embeddings))\n",
    "plt.show()"
   ]
  },
  {
   "cell_type": "code",
   "execution_count": null,
   "metadata": {},
   "outputs": [],
   "source": []
  }
 ],
 "metadata": {
  "kernelspec": {
   "display_name": "Python 3",
   "language": "python",
   "name": "python3"
  },
  "language_info": {
   "codemirror_mode": {
    "name": "ipython",
    "version": 3
   },
   "file_extension": ".py",
   "mimetype": "text/x-python",
   "name": "python",
   "nbconvert_exporter": "python",
   "pygments_lexer": "ipython3",
   "version": "3.7.1"
  }
 },
 "nbformat": 4,
 "nbformat_minor": 2
}
